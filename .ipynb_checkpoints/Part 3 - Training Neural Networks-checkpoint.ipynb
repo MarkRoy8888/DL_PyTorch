{
 "cells": [
  {
   "cell_type": "markdown",
   "metadata": {},
   "source": [
    "# Training Neural Networks\n",
    "\n",
    "The network we built in the previous part isn't so smart, it doesn't know anything about our handwritten digits. Neural networks with non-linear activations work like universal function approximators. There is some function that maps your input to the output. For example, images of handwritten digits to class probabilities. The power of neural networks is that we can train them to approximate this function, and basically any function given enough data and compute time.\n",
    "\n",
    "<img src=\"assets/function_approx.png\" width=500px>\n",
    "\n",
    "At first the network is naive, it doesn't know the function mapping the inputs to the outputs. We train the network by showing it examples of real data, then adjusting the network parameters such that it approximates this function.\n",
    "\n",
    "To find these parameters, we need to know how poorly the network is predicting the real outputs. For this we calculate a **loss function** (also called the cost), a measure of our prediction error. For example, the mean squared loss is often used in regression and binary classification problems\n",
    "\n",
    "$$\n",
    "\\ell = \\frac{1}{2n}\\sum_i^n{\\left(y_i - \\hat{y}_i\\right)^2}\n",
    "$$\n",
    "\n",
    "where $n$ is the number of training examples, $y_i$ are the true labels, and $\\hat{y}_i$ are the predicted labels.\n",
    "\n",
    "By minimizing this loss with respect to the network parameters, we can find configurations where the loss is at a minimum and the network is able to predict the correct labels with high accuracy. We find this minimum using a process called **gradient descent**. The gradient is the slope of the loss function and points in the direction of fastest change. To get to the minimum in the least amount of time, we then want to follow the gradient (downwards). You can think of this like descending a mountain by following the steepest slope to the base.\n",
    "\n",
    "<img src='assets/gradient_descent.png' width=350px>"
   ]
  },
  {
   "cell_type": "markdown",
   "metadata": {},
   "source": [
    "## Backpropagation\n",
    "\n",
    "For single layer networks, gradient descent is simple to implement. However, it's more complicated for deeper, multilayer neural networks like the one we've built. Complicated enough that it took about 30 years before researchers figured out how to train multilayer networks, although it's straightforward once you learn about it. \n",
    "\n",
    "This is done through **backpropagation** which is really just an application of the chain rule from calculus. It's easiest to understand if we convert a two layer network into a graph representation.\n",
    "\n",
    "<img src='assets/w1_backprop_graph.png' width=400px>\n",
    "\n",
    "In the forward pass through the network, our data and operations go from right to left here. To train the weights with gradient descent, we propagate the gradient of the cost backwards through the network. Mathematically, this is really just calculating the gradient of the loss with respect to the weights using the chain rule.\n",
    "\n",
    "$$\n",
    "\\frac{\\partial \\ell}{\\partial w_1} = \\frac{\\partial l_1}{\\partial w_1} \\frac{\\partial s}{\\partial l_1} \\frac{\\partial l_2}{\\partial s} \\frac{\\partial \\ell}{\\partial l_2}\n",
    "$$\n",
    "\n",
    "We update our weights using this gradient with some learning rate $\\alpha$. \n",
    "\n",
    "$$\n",
    "w^\\prime = w - \\alpha \\frac{\\partial \\ell}{\\partial w}\n",
    "$$\n",
    "\n",
    "The learning rate is set such that the weight update steps are small enough that the iterative method settles in a minimum.\n",
    "\n",
    "The first thing we need to do for training is define our loss function. In PyTorch, you'll usually see this as `criterion`. Here we're using softmax output, so we want to use `criterion = nn.CrossEntropyLoss()` as our loss. Later when training, you use `loss = criterion(output, targets)` to calculate the actual loss.\n",
    "\n",
    "We also need to define the optimizer we're using, SGD or Adam, or something along those lines. Here I'll just use SGD with `torch.optim.SGD`, passing in the network parameters and the learning rate."
   ]
  },
  {
   "cell_type": "markdown",
   "metadata": {},
   "source": [
    "## Autograd\n",
    "\n",
    "Torch provides a module, `autograd`, for automatically calculating the gradient of tensors. It does this by keeping track of operations performed on tensors. To make sure PyTorch keeps track of operations on a tensor and calculates the gradients, you need to set `requires_grad` on a tensor. You can do this at creation with the `requires_grad` keyword, or at any time with `x.requires_grad_(True)`.\n",
    "\n",
    "You can turn off gradients for a block of code with the `torch.no_grad()` content:\n",
    "```python\n",
    "x = torch.zeros(1, requires_grad=True)\n",
    ">>> with torch.no_grad():\n",
    "...     y = x * 2\n",
    ">>> y.requires_grad\n",
    "False\n",
    "```\n",
    "\n",
    "Also, you can turn on or off gradients altogether with `torch.set_grad_enabled(True|False)`.\n",
    "\n",
    "The gradients are computed with respect to some variable `z` with `z.backward()`. This does a backward pass through the operations that created `z`."
   ]
  },
  {
   "cell_type": "code",
   "execution_count": 1,
   "metadata": {},
   "outputs": [],
   "source": [
    "%matplotlib inline\n",
    "%config InlineBackend.figure_format = 'retina'\n",
    "\n",
    "from collections import OrderedDict\n",
    "\n",
    "import numpy as np\n",
    "import time\n",
    "\n",
    "import torch\n",
    "from torch import nn\n",
    "from torch import optim\n",
    "import torch.nn.functional as F\n",
    "\n",
    "import helper"
   ]
  },
  {
   "cell_type": "code",
   "execution_count": 2,
   "metadata": {},
   "outputs": [
    {
     "name": "stdout",
     "output_type": "stream",
     "text": [
      "tensor([[ 1.1823, -1.4091],\n",
      "        [ 0.1300,  0.1970]], requires_grad=True)\n"
     ]
    }
   ],
   "source": [
    "x = torch.randn(2,2, requires_grad=True)\n",
    "print(x)"
   ]
  },
  {
   "cell_type": "code",
   "execution_count": 3,
   "metadata": {},
   "outputs": [
    {
     "name": "stdout",
     "output_type": "stream",
     "text": [
      "tensor([[1.3978, 1.9855],\n",
      "        [0.0169, 0.0388]], grad_fn=<PowBackward0>)\n"
     ]
    }
   ],
   "source": [
    "y = x**2\n",
    "print(y)"
   ]
  },
  {
   "cell_type": "markdown",
   "metadata": {},
   "source": [
    "Below we can see the operation that created `y`, a power operation `PowBackward0`."
   ]
  },
  {
   "cell_type": "code",
   "execution_count": 4,
   "metadata": {},
   "outputs": [
    {
     "name": "stdout",
     "output_type": "stream",
     "text": [
      "<PowBackward0 object at 0x7f8929d5d710>\n"
     ]
    }
   ],
   "source": [
    "## grad_fn shows the function that generated this variable\n",
    "print(y.grad_fn)"
   ]
  },
  {
   "cell_type": "markdown",
   "metadata": {},
   "source": [
    "The autgrad module keeps track of these operations and knows how to calculate the gradient for each one. In this way, it's able to calculate the gradients for a chain of operations, with respect to any one tensor. Let's reduce the tensor `y` to a scalar value, the mean."
   ]
  },
  {
   "cell_type": "code",
   "execution_count": 5,
   "metadata": {},
   "outputs": [
    {
     "name": "stdout",
     "output_type": "stream",
     "text": [
      "tensor(0.8597, grad_fn=<MeanBackward0>)\n"
     ]
    }
   ],
   "source": [
    "z = y.mean()\n",
    "print(z)"
   ]
  },
  {
   "cell_type": "markdown",
   "metadata": {},
   "source": [
    "You can check the gradients for `x` and `y` but they are empty currently."
   ]
  },
  {
   "cell_type": "code",
   "execution_count": 6,
   "metadata": {},
   "outputs": [
    {
     "name": "stdout",
     "output_type": "stream",
     "text": [
      "None\n"
     ]
    }
   ],
   "source": [
    "print(x.grad)"
   ]
  },
  {
   "cell_type": "markdown",
   "metadata": {},
   "source": [
    "To calculate the gradients, you need to run the `.backward` method on a Variable, `z` for example. This will calculate the gradient for `z` with respect to `x`\n",
    "\n",
    "$$\n",
    "\\frac{\\partial z}{\\partial x} = \\frac{\\partial}{\\partial x}\\left[\\frac{1}{n}\\sum_i^n x_i^2\\right] = \\frac{x}{2}\n",
    "$$"
   ]
  },
  {
   "cell_type": "code",
   "execution_count": 7,
   "metadata": {},
   "outputs": [
    {
     "name": "stdout",
     "output_type": "stream",
     "text": [
      "tensor([[ 0.5911, -0.7045],\n",
      "        [ 0.0650,  0.0985]])\n",
      "tensor([[ 0.5911, -0.7045],\n",
      "        [ 0.0650,  0.0985]], grad_fn=<DivBackward0>)\n"
     ]
    }
   ],
   "source": [
    "z.backward()\n",
    "print(x.grad)\n",
    "print(x/2)"
   ]
  },
  {
   "cell_type": "markdown",
   "metadata": {},
   "source": [
    "These gradients calculations are particularly useful for neural networks. For training we need the gradients of the weights with respect to the cost. With PyTorch, we run data forward through the network to calculate the cost, then, go backwards to calculate the gradients with respect to the cost. Once we have the gradients we can make a gradient descent step. "
   ]
  },
  {
   "cell_type": "markdown",
   "metadata": {},
   "source": [
    "## Get the data and define the network\n",
    "\n",
    "The same as we saw in part 3, we'll load the MNIST dataset and define our network."
   ]
  },
  {
   "cell_type": "code",
   "execution_count": 12,
   "metadata": {},
   "outputs": [],
   "source": [
    "from torchvision import datasets, transforms\n",
    "\n",
    "# Define a transform to normalize the data\n",
    "transform = transforms.Compose([transforms.ToTensor(), transforms.Normalize([0.5], [0.5])])\n",
    "\n",
    "# transform = transforms.Compose([transforms.ToTensor(),\n",
    "#                               transforms.Normalize((0.5, 0.5, 0.5), (0.5, 0.5, 0.5)),])\n",
    "# Download and load the training data\n",
    "trainset = datasets.MNIST('MNIST_data/', download=True, train=True, transform=transform)\n",
    "trainloader = torch.utils.data.DataLoader(trainset, batch_size=64, shuffle=True)"
   ]
  },
  {
   "cell_type": "markdown",
   "metadata": {},
   "source": [
    "I'll build a network with `nn.Sequential` here. Only difference from the last part is I'm not actually using softmax on the output, but instead just using the raw output from the last layer. This is because the output from softmax is a probability distribution. Often, the output will have values really close to zero or really close to one. Due to [inaccuracies with representing numbers as floating points](https://docs.python.org/3/tutorial/floatingpoint.html), computations with a softmax output can lose accuracy and become unstable. To get around this, we'll use the raw output, called the **logits**, to calculate the loss."
   ]
  },
  {
   "cell_type": "code",
   "execution_count": 13,
   "metadata": {},
   "outputs": [],
   "source": [
    "# Hyperparameters for our network\n",
    "input_size = 784\n",
    "hidden_sizes = [128, 64]\n",
    "output_size = 10\n",
    "\n",
    "# Build a feed-forward network\n",
    "model = nn.Sequential(OrderedDict([\n",
    "                      ('fc1', nn.Linear(input_size, hidden_sizes[0])),\n",
    "                      ('relu1', nn.ReLU()),\n",
    "                      ('fc2', nn.Linear(hidden_sizes[0], hidden_sizes[1])),\n",
    "                      ('relu2', nn.ReLU()),\n",
    "                      ('logits', nn.Linear(hidden_sizes[1], output_size))]))"
   ]
  },
  {
   "cell_type": "markdown",
   "metadata": {},
   "source": [
    "## Training the network!\n",
    "\n",
    "The first thing we need to do for training is define our loss function. In PyTorch, you'll usually see this as `criterion`. Here we're using softmax output, so we want to use `criterion = nn.CrossEntropyLoss()` as our loss. Later when training, you use `loss = criterion(output, targets)` to calculate the actual loss.\n",
    "\n",
    "We also need to define the optimizer we're using, SGD or Adam, or something along those lines. Here I'll just use SGD with `torch.optim.SGD`, passing in the network parameters and the learning rate."
   ]
  },
  {
   "cell_type": "code",
   "execution_count": 14,
   "metadata": {},
   "outputs": [],
   "source": [
    "criterion = nn.CrossEntropyLoss()\n",
    "optimizer = optim.SGD(model.parameters(), lr=0.01)"
   ]
  },
  {
   "cell_type": "markdown",
   "metadata": {},
   "source": [
    "First, let's consider just one learning step before looping through all the data. The general process with PyTorch:\n",
    "\n",
    "* Make a forward pass through the network to get the logits \n",
    "* Use the logits to calculate the loss\n",
    "* Perform a backward pass through the network with `loss.backward()` to calculate the gradients\n",
    "* Take a step with the optimizer to update the weights\n",
    "\n",
    "Below I'll go through one training step and print out the weights and gradients so you can see how it changes."
   ]
  },
  {
   "cell_type": "code",
   "execution_count": 15,
   "metadata": {},
   "outputs": [
    {
     "name": "stdout",
     "output_type": "stream",
     "text": [
      "Initial weights -  Parameter containing:\n",
      "tensor([[ 0.0139, -0.0192,  0.0099,  ..., -0.0262,  0.0016, -0.0120],\n",
      "        [-0.0176,  0.0264, -0.0022,  ...,  0.0168,  0.0031,  0.0354],\n",
      "        [ 0.0217, -0.0047,  0.0189,  ...,  0.0340,  0.0075, -0.0342],\n",
      "        ...,\n",
      "        [-0.0154,  0.0064, -0.0339,  ...,  0.0341, -0.0059,  0.0152],\n",
      "        [ 0.0084, -0.0336,  0.0098,  ...,  0.0038, -0.0337, -0.0099],\n",
      "        [ 0.0237,  0.0078, -0.0187,  ..., -0.0152,  0.0150, -0.0277]],\n",
      "       requires_grad=True)\n",
      "Gradient - tensor([[-0.0027, -0.0027, -0.0027,  ..., -0.0027, -0.0027, -0.0027],\n",
      "        [ 0.0000,  0.0000,  0.0000,  ...,  0.0000,  0.0000,  0.0000],\n",
      "        [ 0.0000,  0.0000,  0.0000,  ...,  0.0000,  0.0000,  0.0000],\n",
      "        ...,\n",
      "        [-0.0017, -0.0017, -0.0017,  ..., -0.0017, -0.0017, -0.0017],\n",
      "        [-0.0021, -0.0021, -0.0021,  ..., -0.0021, -0.0021, -0.0021],\n",
      "        [-0.0041, -0.0041, -0.0041,  ..., -0.0041, -0.0041, -0.0041]])\n"
     ]
    }
   ],
   "source": [
    "print('Initial weights - ', model.fc1.weight)\n",
    "\n",
    "images, labels = next(iter(trainloader))\n",
    "images.resize_(64, 784)\n",
    "\n",
    "# Clear the gradients, do this because gradients are accumulated\n",
    "optimizer.zero_grad()\n",
    "\n",
    "# Forward pass, then backward pass, then update weights\n",
    "output = model.forward(images)\n",
    "loss = criterion(output, labels)\n",
    "loss.backward()\n",
    "print('Gradient -', model.fc1.weight.grad)\n",
    "optimizer.step()"
   ]
  },
  {
   "cell_type": "code",
   "execution_count": 16,
   "metadata": {},
   "outputs": [
    {
     "name": "stdout",
     "output_type": "stream",
     "text": [
      "Updated weights -  Parameter containing:\n",
      "tensor([[ 0.0139, -0.0192,  0.0100,  ..., -0.0262,  0.0016, -0.0120],\n",
      "        [-0.0176,  0.0264, -0.0022,  ...,  0.0168,  0.0031,  0.0354],\n",
      "        [ 0.0217, -0.0047,  0.0189,  ...,  0.0340,  0.0075, -0.0342],\n",
      "        ...,\n",
      "        [-0.0153,  0.0064, -0.0339,  ...,  0.0342, -0.0059,  0.0152],\n",
      "        [ 0.0084, -0.0336,  0.0098,  ...,  0.0038, -0.0336, -0.0099],\n",
      "        [ 0.0238,  0.0079, -0.0186,  ..., -0.0152,  0.0151, -0.0276]],\n",
      "       requires_grad=True)\n"
     ]
    }
   ],
   "source": [
    "print('Updated weights - ', model.fc1.weight)"
   ]
  },
  {
   "cell_type": "markdown",
   "metadata": {},
   "source": [
    "### Training for real\n",
    "\n",
    "Now we'll put this algorithm into a loop so we can go through all the images. This is fairly straightforward. We'll loop through the mini-batches in our dataset, pass the data through the network to calculate the losses, get the gradients, then run the optimizer."
   ]
  },
  {
   "cell_type": "code",
   "execution_count": 17,
   "metadata": {},
   "outputs": [],
   "source": [
    "optimizer = optim.SGD(model.parameters(), lr=0.003)"
   ]
  },
  {
   "cell_type": "code",
   "execution_count": 18,
   "metadata": {},
   "outputs": [
    {
     "name": "stdout",
     "output_type": "stream",
     "text": [
      "Epoch: 1/3...  Loss: 2.2933\n",
      "Epoch: 1/3...  Loss: 2.2665\n",
      "Epoch: 1/3...  Loss: 2.2415\n",
      "Epoch: 1/3...  Loss: 2.2186\n",
      "Epoch: 1/3...  Loss: 2.1954\n",
      "Epoch: 1/3...  Loss: 2.1638\n",
      "Epoch: 1/3...  Loss: 2.1358\n",
      "Epoch: 1/3...  Loss: 2.1017\n",
      "Epoch: 1/3...  Loss: 2.0613\n",
      "Epoch: 1/3...  Loss: 2.0091\n",
      "Epoch: 1/3...  Loss: 1.9622\n",
      "Epoch: 1/3...  Loss: 1.9134\n",
      "Epoch: 1/3...  Loss: 1.8551\n",
      "Epoch: 1/3...  Loss: 1.7968\n",
      "Epoch: 1/3...  Loss: 1.7295\n",
      "Epoch: 1/3...  Loss: 1.6793\n",
      "Epoch: 1/3...  Loss: 1.6073\n",
      "Epoch: 1/3...  Loss: 1.5678\n",
      "Epoch: 1/3...  Loss: 1.4648\n",
      "Epoch: 1/3...  Loss: 1.4120\n",
      "Epoch: 1/3...  Loss: 1.3354\n",
      "Epoch: 1/3...  Loss: 1.2907\n",
      "Epoch: 1/3...  Loss: 1.2298\n",
      "Epoch: 2/3...  Loss: 0.6638\n",
      "Epoch: 2/3...  Loss: 1.1287\n",
      "Epoch: 2/3...  Loss: 1.0832\n",
      "Epoch: 2/3...  Loss: 1.0265\n",
      "Epoch: 2/3...  Loss: 0.9906\n",
      "Epoch: 2/3...  Loss: 0.9662\n",
      "Epoch: 2/3...  Loss: 0.9325\n",
      "Epoch: 2/3...  Loss: 0.8846\n",
      "Epoch: 2/3...  Loss: 0.8391\n",
      "Epoch: 2/3...  Loss: 0.8192\n",
      "Epoch: 2/3...  Loss: 0.7993\n",
      "Epoch: 2/3...  Loss: 0.7806\n",
      "Epoch: 2/3...  Loss: 0.7631\n",
      "Epoch: 2/3...  Loss: 0.7395\n",
      "Epoch: 2/3...  Loss: 0.6838\n",
      "Epoch: 2/3...  Loss: 0.6860\n",
      "Epoch: 2/3...  Loss: 0.6888\n",
      "Epoch: 2/3...  Loss: 0.6889\n",
      "Epoch: 2/3...  Loss: 0.6484\n",
      "Epoch: 2/3...  Loss: 0.6530\n",
      "Epoch: 2/3...  Loss: 0.6281\n",
      "Epoch: 2/3...  Loss: 0.6235\n",
      "Epoch: 2/3...  Loss: 0.5867\n",
      "Epoch: 3/3...  Loss: 0.0574\n",
      "Epoch: 3/3...  Loss: 0.6069\n",
      "Epoch: 3/3...  Loss: 0.5680\n",
      "Epoch: 3/3...  Loss: 0.5726\n",
      "Epoch: 3/3...  Loss: 0.5668\n",
      "Epoch: 3/3...  Loss: 0.5520\n",
      "Epoch: 3/3...  Loss: 0.5372\n",
      "Epoch: 3/3...  Loss: 0.5429\n",
      "Epoch: 3/3...  Loss: 0.5044\n",
      "Epoch: 3/3...  Loss: 0.5422\n",
      "Epoch: 3/3...  Loss: 0.5131\n",
      "Epoch: 3/3...  Loss: 0.5389\n",
      "Epoch: 3/3...  Loss: 0.4960\n",
      "Epoch: 3/3...  Loss: 0.4843\n",
      "Epoch: 3/3...  Loss: 0.5087\n",
      "Epoch: 3/3...  Loss: 0.4710\n",
      "Epoch: 3/3...  Loss: 0.4783\n",
      "Epoch: 3/3...  Loss: 0.4883\n",
      "Epoch: 3/3...  Loss: 0.5102\n",
      "Epoch: 3/3...  Loss: 0.4525\n",
      "Epoch: 3/3...  Loss: 0.4839\n",
      "Epoch: 3/3...  Loss: 0.4797\n",
      "Epoch: 3/3...  Loss: 0.4788\n",
      "Epoch: 3/3...  Loss: 0.4514\n"
     ]
    }
   ],
   "source": [
    "epochs = 3\n",
    "print_every = 40\n",
    "steps = 0\n",
    "for e in range(epochs):\n",
    "    running_loss = 0\n",
    "    for images, labels in iter(trainloader):\n",
    "        steps += 1\n",
    "        # Flatten MNIST images into a 784 long vector\n",
    "        images.resize_(images.size()[0], 784)\n",
    "        \n",
    "        optimizer.zero_grad()\n",
    "        \n",
    "        # Forward and backward passes\n",
    "        output = model.forward(images)\n",
    "        loss = criterion(output, labels)\n",
    "        loss.backward()\n",
    "        optimizer.step()\n",
    "        \n",
    "        running_loss += loss.item()\n",
    "        \n",
    "        if steps % print_every == 0:\n",
    "            print(\"Epoch: {}/{}... \".format(e+1, epochs),\n",
    "                  \"Loss: {:.4f}\".format(running_loss/print_every))\n",
    "            \n",
    "            running_loss = 0"
   ]
  },
  {
   "cell_type": "markdown",
   "metadata": {},
   "source": [
    "With the network trained, we can check out it's predictions."
   ]
  },
  {
   "cell_type": "code",
   "execution_count": 23,
   "metadata": {},
   "outputs": [
    {
     "data": {
      "image/png": "[encoded data removed]",
      "text/plain": [
       "<Figure size 432x648 with 2 Axes>"
      ]
     },
     "metadata": {
      "image/png": {
       "height": 235,
       "width": 424
      },
      "needs_background": "light"
     },
     "output_type": "display_data"
    }
   ],
   "source": [
    "images, labels = next(iter(trainloader))\n",
    "\n",
    "img = images[0].view(1, 784)\n",
    "# Turn off gradients to speed up this part\n",
    "with torch.no_grad():\n",
    "    logits = model.forward(img)\n",
    "\n",
    "# Output of the network are logits, need to take softmax for probabilities\n",
    "ps = F.softmax(logits, dim=1)\n",
    "helper.view_classify(img.view(1, 28, 28), ps)"
   ]
  },
  {
   "cell_type": "markdown",
   "metadata": {},
   "source": [
    "Now our network is brilliant. It can accurately predict the digits in our images. Next up you'll write the code for training a neural network on a more complex dataset."
   ]
  },
  {
   "cell_type": "markdown",
   "metadata": {},
   "source": [
    "## practice"
   ]
  },
  {
   "cell_type": "code",
   "execution_count": null,
   "metadata": {},
   "outputs": [],
   "source": []
  },
  {
   "cell_type": "code",
   "execution_count": 31,
   "metadata": {
    "scrolled": true
   },
   "outputs": [
    {
     "name": "stdout",
     "output_type": "stream",
     "text": [
      "Epoch: 1/3...  Loss: 2.2914\n",
      "Epoch: 1/3...  Loss: 2.2301\n",
      "Epoch: 1/3...  Loss: 2.0743\n",
      "Epoch: 1/3...  Loss: 1.6845\n",
      "Epoch: 1/3...  Loss: 1.2078\n",
      "Epoch: 1/3...  Loss: 0.9218\n",
      "Epoch: 1/3...  Loss: 0.7584\n",
      "Epoch: 1/3...  Loss: 0.6555\n",
      "Epoch: 1/3...  Loss: 0.5648\n",
      "Epoch: 1/3...  Loss: 0.5487\n",
      "Epoch: 1/3...  Loss: 0.4861\n",
      "Epoch: 1/3...  Loss: 0.5170\n",
      "Epoch: 1/3...  Loss: 0.4755\n",
      "Epoch: 1/3...  Loss: 0.4707\n",
      "Epoch: 1/3...  Loss: 0.4238\n",
      "Epoch: 1/3...  Loss: 0.3939\n",
      "Epoch: 1/3...  Loss: 0.4373\n",
      "Epoch: 1/3...  Loss: 0.3755\n",
      "Epoch: 1/3...  Loss: 0.4012\n",
      "Epoch: 1/3...  Loss: 0.3541\n",
      "Epoch: 1/3...  Loss: 0.3384\n",
      "Epoch: 1/3...  Loss: 0.3701\n",
      "Epoch: 1/3...  Loss: 0.3519\n",
      "Epoch: 2/3...  Loss: 0.1691\n",
      "Epoch: 2/3...  Loss: 0.2814\n",
      "Epoch: 2/3...  Loss: 0.3378\n",
      "Epoch: 2/3...  Loss: 0.3138\n",
      "Epoch: 2/3...  Loss: 0.3337\n",
      "Epoch: 2/3...  Loss: 0.2853\n",
      "Epoch: 2/3...  Loss: 0.3418\n",
      "Epoch: 2/3...  Loss: 0.3017\n",
      "Epoch: 2/3...  Loss: 0.2902\n",
      "Epoch: 2/3...  Loss: 0.2705\n",
      "Epoch: 2/3...  Loss: 0.2716\n",
      "Epoch: 2/3...  Loss: 0.2675\n",
      "Epoch: 2/3...  Loss: 0.2694\n",
      "Epoch: 2/3...  Loss: 0.2993\n",
      "Epoch: 2/3...  Loss: 0.2447\n",
      "Epoch: 2/3...  Loss: 0.2858\n",
      "Epoch: 2/3...  Loss: 0.2544\n",
      "Epoch: 2/3...  Loss: 0.2573\n",
      "Epoch: 2/3...  Loss: 0.2612\n",
      "Epoch: 2/3...  Loss: 0.2523\n",
      "Epoch: 2/3...  Loss: 0.2448\n",
      "Epoch: 2/3...  Loss: 0.2819\n",
      "Epoch: 2/3...  Loss: 0.2371\n",
      "Epoch: 3/3...  Loss: 0.0189\n",
      "Epoch: 3/3...  Loss: 0.2208\n",
      "Epoch: 3/3...  Loss: 0.1920\n",
      "Epoch: 3/3...  Loss: 0.2231\n",
      "Epoch: 3/3...  Loss: 0.2118\n",
      "Epoch: 3/3...  Loss: 0.2094\n",
      "Epoch: 3/3...  Loss: 0.1997\n",
      "Epoch: 3/3...  Loss: 0.2443\n",
      "Epoch: 3/3...  Loss: 0.2173\n",
      "Epoch: 3/3...  Loss: 0.2235\n",
      "Epoch: 3/3...  Loss: 0.2214\n",
      "Epoch: 3/3...  Loss: 0.2074\n",
      "Epoch: 3/3...  Loss: 0.1878\n",
      "Epoch: 3/3...  Loss: 0.1797\n",
      "Epoch: 3/3...  Loss: 0.2267\n",
      "Epoch: 3/3...  Loss: 0.1829\n",
      "Epoch: 3/3...  Loss: 0.2005\n",
      "Epoch: 3/3...  Loss: 0.1910\n",
      "Epoch: 3/3...  Loss: 0.1847\n",
      "Epoch: 3/3...  Loss: 0.1778\n",
      "Epoch: 3/3...  Loss: 0.1805\n",
      "Epoch: 3/3...  Loss: 0.1912\n",
      "Epoch: 3/3...  Loss: 0.1952\n",
      "Epoch: 3/3...  Loss: 0.1641\n"
     ]
    }
   ],
   "source": [
    "# Hyperparameters for our network\n",
    "input_size = 784\n",
    "hidden_sizes = [392, 128]\n",
    "hidden_sizes2 = [128, 64]\n",
    "output_size = 10\n",
    "\n",
    "# Build a feed-forward network\n",
    "model = nn.Sequential(OrderedDict([\n",
    "                      ('fc1', nn.Linear(input_size, hidden_sizes[0])),\n",
    "                      ('relu1', nn.ReLU()),\n",
    "                      ('fc2', nn.Linear(hidden_sizes[0], hidden_sizes[1])),\n",
    "                      ('relu2', nn.ReLU()),\n",
    "                      ('fc3', nn.Linear(hidden_sizes2[0], hidden_sizes2[1])),\n",
    "                      ('relu3', nn.ReLU()),\n",
    "                      ('logits', nn.Linear(hidden_sizes2[1], output_size))]))\n",
    "criterion = nn.CrossEntropyLoss()\n",
    "optimizer = optim.SGD(model.parameters(), lr=0.1)\n",
    "images, labels = next(iter(trainloader))\n",
    "images.resize_(64, 784)\n",
    "\n",
    "# Clear the gradients, do this because gradients are accumulated\n",
    "# optimizer.zero_grad()\n",
    "# Forward pass, then backward pass, then update weights\n",
    "# output = model.forward(images)\n",
    "# loss = criterion(output, labels)\n",
    "# loss.backward()\n",
    "# optimizer.step()\n",
    "\n",
    "optimizer = optim.SGD(model.parameters(), lr=0.03)\n",
    "epochs = 3\n",
    "print_every = 40\n",
    "steps = 0\n",
    "\n",
    "for e in range(epochs):\n",
    "    running_loss = 0\n",
    "    for images, labels in iter(trainloader):\n",
    "        steps += 1\n",
    "        # Flatten MNIST images into a 784 long vector\n",
    "        images.resize_(images.size()[0], 784)\n",
    "        \n",
    "        optimizer.zero_grad()\n",
    "        \n",
    "        # Forward and backward passes\n",
    "        output = model.forward(images)\n",
    "        loss = criterion(output, labels)\n",
    "        loss.backward()\n",
    "        optimizer.step()\n",
    "        \n",
    "        running_loss += loss.item()\n",
    "        \n",
    "        if steps % print_every == 0:\n",
    "            print(\"Epoch: {}/{}... \".format(e+1, epochs),\n",
    "                  \"Loss: {:.4f}\".format(running_loss/print_every))\n",
    "            \n",
    "            running_loss = 0"
   ]
  },
  {
   "cell_type": "markdown",
   "metadata": {},
   "source": [
    "## better performance"
   ]
  },
  {
   "cell_type": "code",
   "execution_count": 57,
   "metadata": {},
   "outputs": [
    {
     "data": {
      "image/png": "[encoded data removed]",
      "text/plain": [
       "<Figure size 432x648 with 2 Axes>"
      ]
     },
     "metadata": {
      "image/png": {
       "height": 235,
       "width": 424
      },
      "needs_background": "light"
     },
     "output_type": "display_data"
    }
   ],
   "source": [
    "images, labels = next(iter(trainloader))\n",
    "\n",
    "img = images[0].view(1, 784)\n",
    "# Turn off gradients to speed up this part\n",
    "with torch.no_grad():\n",
    "    logits = model.forward(img)\n",
    "\n",
    "# Output of the network are logits, need to take softmax for probabilities\n",
    "ps = F.softmax(logits, dim=1)\n",
    "helper.view_classify(img.view(1, 28, 28), ps)"
   ]
  },
  {
   "cell_type": "code",
   "execution_count": null,
   "metadata": {},
   "outputs": [],
   "source": []
  }
 ],
 "metadata": {
  "kernelspec": {
   "display_name": "Python 3",
   "language": "python",
   "name": "python3"
  },
  "language_info": {
   "codemirror_mode": {
    "name": "ipython",
    "version": 3
   },
   "file_extension": ".py",
   "mimetype": "text/x-python",
   "name": "python",
   "nbconvert_exporter": "python",
   "pygments_lexer": "ipython3",
   "version": "3.7.10"
  }
 },
 "nbformat": 4,
 "nbformat_minor": 2
}
