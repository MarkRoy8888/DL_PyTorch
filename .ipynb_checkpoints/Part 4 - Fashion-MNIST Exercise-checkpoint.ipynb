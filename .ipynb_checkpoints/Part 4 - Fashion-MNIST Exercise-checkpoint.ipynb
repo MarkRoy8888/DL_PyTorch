{
 "cells": [
  {
   "cell_type": "markdown",
   "metadata": {},
   "source": [
    "# Classifying Fashion-MNIST\n",
    "\n",
    "Now it's your turn to build and train a neural network. You'll be using the [Fashion-MNIST dataset](https://github.com/zalandoresearch/fashion-mnist), a drop-in replacement for the MNIST dataset. MNIST is actually quite trivial with neural networks where you can easily achieve better than 97% accuracy. Fashion-MNIST is a set of 28x28 greyscale images of clothes. It's more complex than MNIST, so it's a better representation of the actual performance of your network, and a better representation of datasets you'll use in the real world.\n",
    "\n",
    "<img src='assets/fashion-mnist-sprite.png' width=500px>\n",
    "\n",
    "In this notebook, you'll build your own neural network. For the most part, you could just copy and paste the code from Part 3, but you wouldn't be learning. It's important for you to write the code yourself and get it to work. Feel free to consult the previous notebook though as you work through this.\n",
    "\n",
    "First off, let's load the dataset through torchvision."
   ]
  },
  {
   "cell_type": "code",
   "execution_count": 3,
   "metadata": {},
   "outputs": [],
   "source": [
    "import torch\n",
    "from torchvision import datasets, transforms\n",
    "import helper\n",
    "\n",
    "# Define a transform to normalize the data\n",
    "transform = transforms.Compose([transforms.ToTensor(), transforms.Normalize([0.5], [0.5])])\n",
    "\n",
    "# transform = transforms.Compose([transforms.ToTensor(),\n",
    "#                               transforms.Normalize((0.5, 0.5, 0.5), (0.5, 0.5, 0.5)),])\n",
    "\n",
    "# Download and load the training data\n",
    "trainset = datasets.FashionMNIST('F_MNIST_data/', download=True, train=True, transform=transform)\n",
    "trainloader = torch.utils.data.DataLoader(trainset, batch_size=64, shuffle=True)\n",
    "\n",
    "# Download and load the test data\n",
    "testset = datasets.FashionMNIST('F_MNIST_data/', download=True, train=False, transform=transform)\n",
    "testloader = torch.utils.data.DataLoader(testset, batch_size=64, shuffle=True)"
   ]
  },
  {
   "cell_type": "markdown",
   "metadata": {},
   "source": [
    "Here we can see one of the images."
   ]
  },
  {
   "cell_type": "code",
   "execution_count": 16,
   "metadata": {},
   "outputs": [
    {
     "data": {
      "text/plain": [
       "torch.Size([1, 28, 28])"
      ]
     },
     "execution_count": 16,
     "metadata": {},
     "output_type": "execute_result"
    }
   ],
   "source": [
    "image[0,:].shape"
   ]
  },
  {
   "cell_type": "code",
   "execution_count": 4,
   "metadata": {
    "scrolled": true
   },
   "outputs": [
    {
     "data": {
      "image/png": "[encoded data removed]",
      "text/plain": [
       "<Figure size 432x288 with 1 Axes>"
      ]
     },
     "metadata": {
      "needs_background": "light"
     },
     "output_type": "display_data"
    }
   ],
   "source": [
    "image, label = next(iter(trainloader))\n",
    "helper.imshow(image[0,:]);"
   ]
  },
  {
   "cell_type": "markdown",
   "metadata": {},
   "source": [
    "With the data loaded, it's time to import the necessary packages."
   ]
  },
  {
   "cell_type": "code",
   "execution_count": 7,
   "metadata": {},
   "outputs": [],
   "source": [
    "%matplotlib inline\n",
    "%config InlineBackend.figure_format = 'retina'\n",
    "\n",
    "import matplotlib.pyplot as plt\n",
    "import numpy as np\n",
    "import time\n",
    "from collections import OrderedDict\n",
    "import torch\n",
    "from torch import nn\n",
    "from torch import optim\n",
    "import torch.nn.functional as F\n",
    "from torchvision import datasets, transforms\n",
    "\n",
    "import helper"
   ]
  },
  {
   "cell_type": "markdown",
   "metadata": {},
   "source": [
    "## Building the network\n",
    "\n",
    "Here you should define your network. As with MNIST, each image is 28x28 which is a total of 784 pixels, and there are 10 classes. You should include at least one hidden layer. We suggest you use ReLU activations for the layers and to return the logits from the forward pass. It's up to you how many layers you add and the size of those layers."
   ]
  },
  {
   "cell_type": "code",
   "execution_count": 8,
   "metadata": {},
   "outputs": [],
   "source": [
    "# TODO: Define your network architecture here"
   ]
  },
  {
   "cell_type": "markdown",
   "metadata": {},
   "source": [
    "# Train the network\n",
    "\n",
    "Now you should create your network and train it. First you'll want to define [the criterion](http://pytorch.org/docs/master/nn.html#loss-functions) ( something like `nn.CrossEntropyLoss`) and [the optimizer](http://pytorch.org/docs/master/optim.html) (typically `optim.SGD` or `optim.Adam`).\n",
    "\n",
    "Then write the training code. Remember the training pass is a fairly straightforward process:\n",
    "\n",
    "* Make a forward pass through the network to get the logits \n",
    "* Use the logits to calculate the loss\n",
    "* Perform a backward pass through the network with `loss.backward()` to calculate the gradients\n",
    "* Take a step with the optimizer to update the weights\n",
    "\n",
    "By adjusting the hyperparameters (hidden units, learning rate, etc), you should be able to get the training loss below 0.4."
   ]
  },
  {
   "cell_type": "code",
   "execution_count": 33,
   "metadata": {},
   "outputs": [
    {
     "data": {
      "text/plain": [
       "tensor([[-1., -1., -1.,  ..., -1., -1., -1.],\n",
       "        [-1., -1., -1.,  ..., -1., -1., -1.],\n",
       "        [-1., -1., -1.,  ..., -1., -1., -1.],\n",
       "        ...,\n",
       "        [-1., -1., -1.,  ..., -1., -1., -1.],\n",
       "        [-1., -1., -1.,  ..., -1., -1., -1.],\n",
       "        [-1., -1., -1.,  ..., -1., -1., -1.]])"
      ]
     },
     "execution_count": 33,
     "metadata": {},
     "output_type": "execute_result"
    }
   ],
   "source": [
    "# TODO: Create the network, define the criterion and optimizer\n",
    "input_size = 784\n",
    "hidden_sizes = [128, 64]\n",
    "hidden_sizes2 = [64, 32]\n",
    "output_size = 10\n",
    "\n",
    "# Build a feed-forward network\n",
    "model = nn.Sequential(OrderedDict([\n",
    "                      ('fc1', nn.Linear(input_size, hidden_sizes[0])),\n",
    "                      ('relu1', nn.ReLU()),\n",
    "                      ('fc2', nn.Linear(hidden_sizes[0], hidden_sizes[1])),\n",
    "                      ('relu2', nn.ReLU()),\n",
    "                      ('fc3', nn.Linear(hidden_sizes2[0], hidden_sizes2[1])),\n",
    "                      ('relu3', nn.ReLU()),\n",
    "                      ('logits', nn.Linear(hidden_sizes2[1], output_size))]))\n",
    "criterion = nn.CrossEntropyLoss()\n",
    "optimizer = optim.SGD(model.parameters(), lr=0.05)\n",
    "images, labels = next(iter(trainloader))\n",
    "images.resize_(64, 784)\n"
   ]
  },
  {
   "cell_type": "code",
   "execution_count": 34,
   "metadata": {},
   "outputs": [
    {
     "name": "stdout",
     "output_type": "stream",
     "text": [
      "Epoch: 1/3...  Loss: 2.2826\n",
      "Epoch: 1/3...  Loss: 2.1945\n",
      "Epoch: 1/3...  Loss: 1.8765\n",
      "Epoch: 1/3...  Loss: 1.4279\n",
      "Epoch: 1/3...  Loss: 1.1249\n",
      "Epoch: 1/3...  Loss: 1.0130\n",
      "Epoch: 1/3...  Loss: 0.8864\n",
      "Epoch: 1/3...  Loss: 0.7943\n",
      "Epoch: 1/3...  Loss: 0.7658\n",
      "Epoch: 1/3...  Loss: 0.6926\n",
      "Epoch: 1/3...  Loss: 0.7130\n",
      "Epoch: 1/3...  Loss: 0.6517\n",
      "Epoch: 1/3...  Loss: 0.6116\n",
      "Epoch: 1/3...  Loss: 0.6438\n",
      "Epoch: 1/3...  Loss: 0.6377\n",
      "Epoch: 1/3...  Loss: 0.6157\n",
      "Epoch: 1/3...  Loss: 0.6222\n",
      "Epoch: 1/3...  Loss: 0.6002\n",
      "Epoch: 1/3...  Loss: 0.5633\n",
      "Epoch: 1/3...  Loss: 0.5551\n",
      "Epoch: 1/3...  Loss: 0.5540\n",
      "Epoch: 1/3...  Loss: 0.5663\n",
      "Epoch: 1/3...  Loss: 0.5476\n",
      "Epoch: 2/3...  Loss: 0.2772\n",
      "Epoch: 2/3...  Loss: 0.5093\n",
      "Epoch: 2/3...  Loss: 0.5344\n",
      "Epoch: 2/3...  Loss: 0.5313\n",
      "Epoch: 2/3...  Loss: 0.5511\n",
      "Epoch: 2/3...  Loss: 0.5016\n",
      "Epoch: 2/3...  Loss: 0.4943\n",
      "Epoch: 2/3...  Loss: 0.4837\n",
      "Epoch: 2/3...  Loss: 0.5086\n",
      "Epoch: 2/3...  Loss: 0.5246\n",
      "Epoch: 2/3...  Loss: 0.4674\n",
      "Epoch: 2/3...  Loss: 0.4918\n",
      "Epoch: 2/3...  Loss: 0.4767\n",
      "Epoch: 2/3...  Loss: 0.4644\n",
      "Epoch: 2/3...  Loss: 0.5164\n",
      "Epoch: 2/3...  Loss: 0.4810\n",
      "Epoch: 2/3...  Loss: 0.4796\n",
      "Epoch: 2/3...  Loss: 0.4541\n",
      "Epoch: 2/3...  Loss: 0.4587\n",
      "Epoch: 2/3...  Loss: 0.4683\n",
      "Epoch: 2/3...  Loss: 0.4722\n",
      "Epoch: 2/3...  Loss: 0.4239\n",
      "Epoch: 2/3...  Loss: 0.4299\n",
      "Epoch: 3/3...  Loss: 0.0425\n",
      "Epoch: 3/3...  Loss: 0.4523\n",
      "Epoch: 3/3...  Loss: 0.4355\n",
      "Epoch: 3/3...  Loss: 0.4021\n",
      "Epoch: 3/3...  Loss: 0.4582\n",
      "Epoch: 3/3...  Loss: 0.4297\n",
      "Epoch: 3/3...  Loss: 0.4303\n",
      "Epoch: 3/3...  Loss: 0.4259\n",
      "Epoch: 3/3...  Loss: 0.4046\n",
      "Epoch: 3/3...  Loss: 0.4192\n",
      "Epoch: 3/3...  Loss: 0.4317\n",
      "Epoch: 3/3...  Loss: 0.4667\n",
      "Epoch: 3/3...  Loss: 0.4371\n",
      "Epoch: 3/3...  Loss: 0.4237\n",
      "Epoch: 3/3...  Loss: 0.4387\n",
      "Epoch: 3/3...  Loss: 0.4113\n",
      "Epoch: 3/3...  Loss: 0.4123\n",
      "Epoch: 3/3...  Loss: 0.4145\n",
      "Epoch: 3/3...  Loss: 0.4134\n",
      "Epoch: 3/3...  Loss: 0.4230\n",
      "Epoch: 3/3...  Loss: 0.4374\n",
      "Epoch: 3/3...  Loss: 0.4014\n",
      "Epoch: 3/3...  Loss: 0.4235\n",
      "Epoch: 3/3...  Loss: 0.4096\n"
     ]
    }
   ],
   "source": [
    "# TODO: Train the network here\n",
    "\n",
    "optimizer = optim.SGD(model.parameters(), lr=0.03)\n",
    "epochs = 3\n",
    "print_every = 40\n",
    "steps = 0\n",
    "\n",
    "for e in range(epochs):\n",
    "    running_loss = 0\n",
    "    for images, labels in iter(trainloader):\n",
    "        steps += 1\n",
    "        # Flatten MNIST images into a 784 long vector\n",
    "        images.resize_(images.size()[0], 784)\n",
    "        \n",
    "        optimizer.zero_grad()\n",
    "        \n",
    "        # Forward and backward passes\n",
    "        output = model.forward(images)\n",
    "        loss = criterion(output, labels)\n",
    "        loss.backward()\n",
    "        optimizer.step()\n",
    "        \n",
    "        running_loss += loss.item()\n",
    "        \n",
    "        if steps % print_every == 0:\n",
    "            print(\"Epoch: {}/{}... \".format(e+1, epochs),\n",
    "                  \"Loss: {:.4f}\".format(running_loss/print_every))\n",
    "            \n",
    "            running_loss = 0"
   ]
  },
  {
   "cell_type": "code",
   "execution_count": 37,
   "metadata": {},
   "outputs": [
    {
     "data": {
      "image/png": "[encoded data removed]",
      "text/plain": [
       "<Figure size 432x648 with 2 Axes>"
      ]
     },
     "metadata": {
      "image/png": {
       "height": 216,
       "width": 424
      },
      "needs_background": "light"
     },
     "output_type": "display_data"
    }
   ],
   "source": [
    "# Test out your network!\n",
    "\n",
    "model.eval()\n",
    "\n",
    "dataiter = iter(testloader)\n",
    "images, labels = dataiter.next()\n",
    "img = images[0]\n",
    "# Convert 2D image to 1D vector\n",
    "img = img.view(1, 784)\n",
    "\n",
    "# Calculate the class probabilities (softmax) for img\n",
    "with torch.no_grad():\n",
    "    output = model.forward(img)\n",
    "\n",
    "ps = torch.exp(output)\n",
    "\n",
    "# Plot the image and probabilities\n",
    "helper.view_classify(img.view(1, 28, 28), ps, version='Fashion')"
   ]
  },
  {
   "cell_type": "markdown",
   "metadata": {},
   "source": [
    "Now that your network is trained, you'll want to save it to disk so you can load it later instead of training it again. Obviously, it's impractical to train a network every time you need one. In practice, you'll train it once, save the model, then reload it for further training or making predictions. In the next part, I'll show you how to save and load trained models."
   ]
  }
 ],
 "metadata": {
  "kernelspec": {
   "display_name": "Python 3",
   "language": "python",
   "name": "python3"
  },
  "language_info": {
   "codemirror_mode": {
    "name": "ipython",
    "version": 3
   },
   "file_extension": ".py",
   "mimetype": "text/x-python",
   "name": "python",
   "nbconvert_exporter": "python",
   "pygments_lexer": "ipython3",
   "version": "3.7.10"
  }
 },
 "nbformat": 4,
 "nbformat_minor": 2
}
